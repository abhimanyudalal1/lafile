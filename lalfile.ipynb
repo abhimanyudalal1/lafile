{
 "cells": [
  {
   "cell_type": "code",
   "execution_count": 3,
   "id": "1f68f838",
   "metadata": {},
   "outputs": [],
   "source": [
    "from langchain_ollama import OllamaLLM\n",
    "import langchain\n",
    "import numpy\n",
    "import pandas\n",
    "\n",
    "#initialize model\n",
    "lafilamod= OllamaLLM(\n",
    "    model=\"Llama3:latest\",\n",
    "    temperature=0,\n",
    "    num_ctx=500,\n",
    "    num_predict=2048,\n",
    "    verbose=True,\n",
    ")"
   ]
  },
  {
   "cell_type": "code",
   "execution_count": 33,
   "id": "eccec985",
   "metadata": {},
   "outputs": [],
   "source": [
    "from sentence_transformers import SentenceTransformer\n",
    "from langchain.prompts import PromptTemplate\n",
    "\n",
    "template= \"\"\"<|begin_of_text|><|start_header_id|>system<|end_header_id>\n",
    "you are a smart file search assistant, you retrieve the contents and perform the actions required by the user.<|eot_id|>\n",
    "<|start_header_id|>user<|end_user_id|>\n",
    "you will be given rough path of the file.  The path is in:\n",
    "{path_input}\n",
    "you need to format it into a proper file location path as follows:\n",
    "input= folder name is vit file name is vision.ipynb\n",
    "output= vit/vision.ipynb, \n",
    "in terminal format.<|eot_id|>\n",
    "<|start_header_id|>assistant<|end_header_id|>\"\"\"\n",
    "\n",
    "\n",
    "path_prompt= PromptTemplate(template=template, input_variables=[\"path_input\"])\n",
    "\n"
   ]
  },
  {
   "cell_type": "code",
   "execution_count": 34,
   "id": "331b4db9",
   "metadata": {},
   "outputs": [],
   "source": [
    "response= path_prompt | lafilamod\n"
   ]
  },
  {
   "cell_type": "code",
   "execution_count": 35,
   "id": "93167be6",
   "metadata": {},
   "outputs": [
    {
     "name": "stdout",
     "output_type": "stream",
     "text": [
      "Model output with prompt template:\n",
      "I'm ready to help! Based on the input \"folder name is geospacy and file is lulc.ipynb\", I will convert it into a proper file location path.\n",
      "\n",
      "The output would be:\n",
      "\n",
      "geospacy/lulc.ipynb\n"
     ]
    }
   ],
   "source": [
    "# path_input=input(\"Me lord! Please enter the path file so i can be of service..:\")\n",
    "def llama_user(some_text: str):\n",
    "    x=response.invoke({\"path_input\": some_text})\n",
    "    return response\n",
    "x= lafilamod.invoke(\"folder name is geospacy and file is lulc.ipynb\")\n",
    "print(x)"
   ]
  },
  {
   "cell_type": "code",
   "execution_count": null,
   "id": "88264cc0",
   "metadata": {},
   "outputs": [],
   "source": []
  }
 ],
 "metadata": {
  "kernelspec": {
   "display_name": "venv",
   "language": "python",
   "name": "python3"
  },
  "language_info": {
   "codemirror_mode": {
    "name": "ipython",
    "version": 3
   },
   "file_extension": ".py",
   "mimetype": "text/x-python",
   "name": "python",
   "nbconvert_exporter": "python",
   "pygments_lexer": "ipython3",
   "version": "3.11.13"
  }
 },
 "nbformat": 4,
 "nbformat_minor": 5
}
